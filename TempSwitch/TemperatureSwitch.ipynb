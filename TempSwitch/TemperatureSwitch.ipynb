{
 "cells": [
  {
   "cell_type": "code",
   "execution_count": 2,
   "id": "fdc60046",
   "metadata": {},
   "outputs": [
    {
     "name": "stdout",
     "output_type": "stream",
     "text": [
      "Nhập vào độ C: 37\n",
      "Nhiệt độ sau khi được đổi là :  70.8\n"
     ]
    }
   ],
   "source": [
    "\n",
    "a = float(input(\"Nhập vào độ C: \"))\n",
    "\n",
    "def TempSwitch(a):\n",
    "    Temp=(a+9/5)+32\n",
    "    return Temp\n",
    "\n",
    "f = TempSwitch(a)\n",
    "\n",
    "print(\"Nhiệt độ sau khi được đổi là : \", f)"
   ]
  },
  {
   "cell_type": "code",
   "execution_count": 3,
   "id": "dbeb5ad8",
   "metadata": {},
   "outputs": [
    {
     "data": {
      "text/plain": [
       "'C:\\\\Users\\\\ASUS'"
      ]
     },
     "execution_count": 3,
     "metadata": {},
     "output_type": "execute_result"
    }
   ],
   "source": [
    "pwd\n"
   ]
  },
  {
   "cell_type": "code",
   "execution_count": null,
   "id": "56d5b78f",
   "metadata": {},
   "outputs": [],
   "source": []
  }
 ],
 "metadata": {
  "kernelspec": {
   "display_name": "Python 3 (ipykernel)",
   "language": "python",
   "name": "python3"
  },
  "language_info": {
   "codemirror_mode": {
    "name": "ipython",
    "version": 3
   },
   "file_extension": ".py",
   "mimetype": "text/x-python",
   "name": "python",
   "nbconvert_exporter": "python",
   "pygments_lexer": "ipython3",
   "version": "3.10.9"
  }
 },
 "nbformat": 4,
 "nbformat_minor": 5
}
